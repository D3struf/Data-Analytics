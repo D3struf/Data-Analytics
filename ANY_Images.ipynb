{
 "cells": [
  {
   "cell_type": "code",
   "execution_count": 1,
   "metadata": {
    "collapsed": true,
    "jupyter": {
     "outputs_hidden": true
    },
    "scrolled": true,
    "tags": []
   },
   "outputs": [
    {
     "name": "stdout",
     "output_type": "stream",
     "text": [
      "Defaulting to user installation because normal site-packages is not writeable\n",
      "Requirement already satisfied: tensorflow in c:\\programdata\\anaconda3\\envs\\tensorflow\\lib\\site-packages (1.14.0)\n",
      "Requirement already satisfied: matplotlib in c:\\users\\johnp\\appdata\\roaming\\python\\python37\\site-packages (3.5.3)\n",
      "Requirement already satisfied: opencv-python in c:\\users\\johnp\\appdata\\roaming\\python\\python37\\site-packages (4.8.0.76)\n",
      "Requirement already satisfied: absl-py>=0.7.0 in c:\\programdata\\anaconda3\\envs\\tensorflow\\lib\\site-packages (from tensorflow) (1.4.0)\n",
      "Requirement already satisfied: astor>=0.6.0 in c:\\programdata\\anaconda3\\envs\\tensorflow\\lib\\site-packages (from tensorflow) (0.8.1)\n",
      "Requirement already satisfied: gast>=0.2.0 in c:\\programdata\\anaconda3\\envs\\tensorflow\\lib\\site-packages (from tensorflow) (0.5.4)\n",
      "Requirement already satisfied: google-pasta>=0.1.6 in c:\\programdata\\anaconda3\\envs\\tensorflow\\lib\\site-packages (from tensorflow) (0.2.0)\n",
      "Requirement already satisfied: keras-applications>=1.0.6 in c:\\programdata\\anaconda3\\envs\\tensorflow\\lib\\site-packages (from tensorflow) (1.0.8)\n",
      "Requirement already satisfied: keras-preprocessing>=1.0.5 in c:\\programdata\\anaconda3\\envs\\tensorflow\\lib\\site-packages (from tensorflow) (1.1.2)\n",
      "Requirement already satisfied: numpy<2.0,>=1.14.5 in c:\\programdata\\anaconda3\\envs\\tensorflow\\lib\\site-packages (from tensorflow) (1.21.6)\n",
      "Requirement already satisfied: six>=1.10.0 in c:\\programdata\\anaconda3\\envs\\tensorflow\\lib\\site-packages (from tensorflow) (1.16.0)\n",
      "Requirement already satisfied: protobuf>=3.6.1 in c:\\programdata\\anaconda3\\envs\\tensorflow\\lib\\site-packages (from tensorflow) (3.20.3)\n",
      "Requirement already satisfied: tensorboard<1.15.0,>=1.14.0 in c:\\programdata\\anaconda3\\envs\\tensorflow\\lib\\site-packages (from tensorflow) (1.14.0)\n",
      "Requirement already satisfied: tensorflow-estimator<1.15.0rc0,>=1.14.0rc0 in c:\\programdata\\anaconda3\\envs\\tensorflow\\lib\\site-packages (from tensorflow) (1.14.0)\n",
      "Requirement already satisfied: termcolor>=1.1.0 in c:\\programdata\\anaconda3\\envs\\tensorflow\\lib\\site-packages (from tensorflow) (2.3.0)\n",
      "Requirement already satisfied: wrapt>=1.11.1 in c:\\programdata\\anaconda3\\envs\\tensorflow\\lib\\site-packages (from tensorflow) (1.11.2)\n",
      "Requirement already satisfied: grpcio>=1.8.6 in c:\\programdata\\anaconda3\\envs\\tensorflow\\lib\\site-packages (from tensorflow) (1.42.0)\n",
      "Requirement already satisfied: wheel>=0.26 in c:\\programdata\\anaconda3\\envs\\tensorflow\\lib\\site-packages (from tensorflow) (0.41.2)\n",
      "Requirement already satisfied: cycler>=0.10 in c:\\users\\johnp\\appdata\\roaming\\python\\python37\\site-packages (from matplotlib) (0.11.0)\n",
      "Requirement already satisfied: fonttools>=4.22.0 in c:\\users\\johnp\\appdata\\roaming\\python\\python37\\site-packages (from matplotlib) (4.38.0)\n",
      "Requirement already satisfied: kiwisolver>=1.0.1 in c:\\users\\johnp\\appdata\\roaming\\python\\python37\\site-packages (from matplotlib) (1.4.5)\n",
      "Requirement already satisfied: packaging>=20.0 in c:\\programdata\\anaconda3\\envs\\tensorflow\\lib\\site-packages (from matplotlib) (22.0)\n",
      "Requirement already satisfied: pillow>=6.2.0 in c:\\users\\johnp\\appdata\\roaming\\python\\python37\\site-packages (from matplotlib) (9.5.0)\n",
      "Requirement already satisfied: pyparsing>=2.2.1 in c:\\users\\johnp\\appdata\\roaming\\python\\python37\\site-packages (from matplotlib) (3.1.1)\n",
      "Requirement already satisfied: python-dateutil>=2.7 in c:\\programdata\\anaconda3\\envs\\tensorflow\\lib\\site-packages (from matplotlib) (2.8.2)\n",
      "Requirement already satisfied: h5py in c:\\programdata\\anaconda3\\envs\\tensorflow\\lib\\site-packages (from keras-applications>=1.0.6->tensorflow) (2.10.0)\n",
      "Requirement already satisfied: typing-extensions in c:\\programdata\\anaconda3\\envs\\tensorflow\\lib\\site-packages (from kiwisolver>=1.0.1->matplotlib) (4.7.1)\n",
      "Requirement already satisfied: markdown>=2.6.8 in c:\\programdata\\anaconda3\\envs\\tensorflow\\lib\\site-packages (from tensorboard<1.15.0,>=1.14.0->tensorflow) (3.4.4)\n",
      "Requirement already satisfied: setuptools>=41.0.0 in c:\\programdata\\anaconda3\\envs\\tensorflow\\lib\\site-packages (from tensorboard<1.15.0,>=1.14.0->tensorflow) (68.2.2)\n",
      "Requirement already satisfied: werkzeug>=0.11.15 in c:\\programdata\\anaconda3\\envs\\tensorflow\\lib\\site-packages (from tensorboard<1.15.0,>=1.14.0->tensorflow) (2.1.2)\n",
      "Requirement already satisfied: importlib-metadata>=4.4 in c:\\programdata\\anaconda3\\envs\\tensorflow\\lib\\site-packages (from markdown>=2.6.8->tensorboard<1.15.0,>=1.14.0->tensorflow) (4.11.4)\n",
      "Requirement already satisfied: zipp>=0.5 in c:\\programdata\\anaconda3\\envs\\tensorflow\\lib\\site-packages (from importlib-metadata>=4.4->markdown>=2.6.8->tensorboard<1.15.0,>=1.14.0->tensorflow) (3.11.0)\n",
      "Note: you may need to restart the kernel to use updated packages.\n"
     ]
    }
   ],
   "source": [
    "%pip install tensorflow matplotlib opencv-python"
   ]
  },
  {
   "cell_type": "code",
   "execution_count": 1,
   "metadata": {
    "collapsed": true,
    "jupyter": {
     "outputs_hidden": true
    },
    "tags": []
   },
   "outputs": [
    {
     "name": "stdout",
     "output_type": "stream",
     "text": [
      "Package                  Version\n",
      "------------------------ ---------\n",
      "absl-py                  1.4.0\n",
      "aiofiles                 22.1.0\n",
      "aiohttp                  3.8.5\n",
      "aiosignal                1.2.0\n",
      "aiosqlite                0.18.0\n",
      "anyio                    3.5.0\n",
      "argon2-cffi              21.3.0\n",
      "argon2-cffi-bindings     21.2.0\n",
      "asttokens                2.0.5\n",
      "astunparse               1.6.3\n",
      "async-timeout            4.0.2\n",
      "attrs                    22.1.0\n",
      "Babel                    2.11.0\n",
      "backcall                 0.2.0\n",
      "beautifulsoup4           4.12.2\n",
      "bleach                   4.1.0\n",
      "blinker                  1.4\n",
      "Bottleneck               1.3.5\n",
      "brotlipy                 0.7.0\n",
      "cachetools               4.2.2\n",
      "category-encoders        2.6.1\n",
      "certifi                  2022.12.7\n",
      "cffi                     1.15.1\n",
      "chardet                  4.0.0\n",
      "charset-normalizer       2.0.4\n",
      "click                    8.0.4\n",
      "colorama                 0.4.6\n",
      "comm                     0.1.2\n",
      "contourpy                1.0.5\n",
      "cryptography             41.0.3\n",
      "cycler                   0.10.0\n",
      "debugpy                  1.6.7\n",
      "decorator                5.1.1\n",
      "defusedxml               0.7.1\n",
      "dill                     0.3.7\n",
      "entrypoints              0.4\n",
      "exceptiongroup           1.0.4\n",
      "executing                0.8.3\n",
      "fastjsonschema           2.16.2\n",
      "flatbuffers              2.0\n",
      "fonttools                4.25.0\n",
      "frozenlist               1.3.3\n",
      "future                   0.18.3\n",
      "gast                     0.4.0\n",
      "google-auth              2.22.0\n",
      "google-auth-oauthlib     0.4.4\n",
      "google-pasta             0.2.0\n",
      "googleapis-common-protos 1.56.4\n",
      "grpcio                   1.48.2\n",
      "h5py                     3.9.0\n",
      "idna                     2.10\n",
      "ipykernel                6.25.0\n",
      "ipython                  8.15.0\n",
      "ipython-genutils         0.2.0\n",
      "jedi                     0.18.1\n",
      "Jinja2                   3.1.2\n",
      "joblib                   1.2.0\n",
      "json5                    0.9.6\n",
      "jsonschema               4.17.3\n",
      "jupyter_client           7.4.9\n",
      "jupyter_core             5.3.0\n",
      "jupyter-events           0.6.3\n",
      "jupyter-server           1.23.4\n",
      "jupyter_server_fileid    0.9.0\n",
      "jupyter_server_ydoc      0.8.0\n",
      "jupyter-ydoc             0.2.4\n",
      "jupyterlab               3.6.3\n",
      "jupyterlab-pygments      0.1.2\n",
      "jupyterlab_server        2.22.0\n",
      "keras                    2.10.0\n",
      "Keras-Preprocessing      1.1.2\n",
      "kiwisolver               1.4.4\n",
      "lxml                     4.9.2\n",
      "Markdown                 3.4.1\n",
      "MarkupSafe               2.1.1\n",
      "matplotlib               3.7.2\n",
      "matplotlib-inline        0.1.6\n",
      "mistune                  0.8.4\n",
      "mkl-fft                  1.3.6\n",
      "mkl-random               1.2.2\n",
      "mkl-service              2.4.0\n",
      "multidict                6.0.2\n",
      "munkres                  1.1.4\n",
      "nbclassic                0.5.5\n",
      "nbclient                 0.5.13\n",
      "nbconvert                6.5.4\n",
      "nbformat                 5.9.2\n",
      "nest-asyncio             1.5.6\n",
      "notebook                 6.5.4\n",
      "notebook_shim            0.2.2\n",
      "numexpr                  2.8.4\n",
      "numpy                    1.25.2\n",
      "oauthlib                 3.2.2\n",
      "opencv-python-headless   4.8.0.74\n",
      "opt-einsum               3.3.0\n",
      "packaging                23.1\n",
      "pandas                   2.0.3\n",
      "pandocfilters            1.5.0\n",
      "parso                    0.8.3\n",
      "path                     16.2.0\n",
      "patsy                    0.5.3\n",
      "pickleshare              0.7.5\n",
      "Pillow                   9.4.0\n",
      "pip                      23.2.1\n",
      "platformdirs             3.10.0\n",
      "ply                      3.11\n",
      "prometheus-client        0.14.1\n",
      "promise                  2.3\n",
      "prompt-toolkit           3.0.36\n",
      "protobuf                 3.20.3\n",
      "psutil                   5.9.0\n",
      "pure-eval                0.2.2\n",
      "pyasn1                   0.4.8\n",
      "pyasn1-modules           0.2.8\n",
      "pycparser                2.21\n",
      "Pygments                 2.15.1\n",
      "PyJWT                    2.4.0\n",
      "pyOpenSSL                23.2.0\n",
      "pyparsing                2.4.7\n",
      "PyQt5                    5.15.7\n",
      "PyQt5-sip                12.11.0\n",
      "pyrsistent               0.18.0\n",
      "PySocks                  1.7.1\n",
      "python-dateutil          2.8.2\n",
      "python-dotenv            1.0.0\n",
      "python-json-logger       2.0.7\n",
      "pytz                     2022.7\n",
      "pywin32                  305.1\n",
      "pywinpty                 2.0.10\n",
      "PyYAML                   6.0.1\n",
      "pyzmq                    23.2.0\n",
      "requests                 2.31.0\n",
      "requests-oauthlib        1.3.0\n",
      "requests-toolbelt        1.0.0\n",
      "rfc3339-validator        0.1.4\n",
      "rfc3986-validator        0.1.1\n",
      "roboflow                 1.1.7\n",
      "rsa                      4.7.2\n",
      "scikit-learn             1.3.0\n",
      "scipy                    1.11.1\n",
      "Send2Trash               1.8.0\n",
      "setuptools               68.0.0\n",
      "sip                      6.6.2\n",
      "six                      1.16.0\n",
      "sniffio                  1.2.0\n",
      "soupsieve                2.4\n",
      "stack-data               0.2.0\n",
      "statsmodels              0.14.0\n",
      "supervision              0.14.0\n",
      "tensorboard              2.10.0\n",
      "tensorboard-data-server  0.6.1\n",
      "tensorboard-plugin-wit   1.8.1\n",
      "tensorflow               2.10.0\n",
      "tensorflow-datasets      1.2.0\n",
      "tensorflow-estimator     2.10.0\n",
      "tensorflow-metadata      0.14.0\n",
      "termcolor                2.1.0\n",
      "terminado                0.17.1\n",
      "threadpoolctl            2.2.0\n",
      "tinycss2                 1.2.1\n",
      "toml                     0.10.2\n",
      "tomli                    2.0.1\n",
      "tornado                  6.3.2\n",
      "tqdm                     4.65.0\n",
      "traitlets                5.7.1\n",
      "typing_extensions        4.7.1\n",
      "tzdata                   2023.3\n",
      "urllib3                  1.26.16\n",
      "wcwidth                  0.2.5\n",
      "webencodings             0.5.1\n",
      "websocket-client         0.58.0\n",
      "Werkzeug                 2.2.3\n",
      "wheel                    0.38.4\n",
      "win-inet-pton            1.1.0\n",
      "wrapt                    1.14.1\n",
      "y-py                     0.5.9\n",
      "yarl                     1.8.1\n",
      "ypy-websocket            0.8.2\n"
     ]
    }
   ],
   "source": [
    "!pip list"
   ]
  },
  {
   "cell_type": "code",
   "execution_count": 1,
   "metadata": {
    "collapsed": true,
    "jupyter": {
     "outputs_hidden": true
    },
    "tags": []
   },
   "outputs": [
    {
     "data": {
      "text/plain": [
       "['100', '1000', '20', '200', '50', '500']"
      ]
     },
     "execution_count": 1,
     "metadata": {},
     "output_type": "execute_result"
    }
   ],
   "source": [
    "import tensorflow as tf\n",
    "import os\n",
    "\n",
    "os.listdir('Banknote Dataset')"
   ]
  },
  {
   "cell_type": "code",
   "execution_count": 21,
   "metadata": {
    "tags": []
   },
   "outputs": [
    {
     "ename": "NameError",
     "evalue": "name 'imgdhr' is not defined",
     "output_type": "error",
     "traceback": [
      "\u001b[1;31m---------------------------------------------------------------------------\u001b[0m",
      "\u001b[1;31mNameError\u001b[0m                                 Traceback (most recent call last)",
      "Cell \u001b[1;32mIn[21], line 4\u001b[0m\n\u001b[0;32m      1\u001b[0m \u001b[38;5;28;01mimport\u001b[39;00m \u001b[38;5;21;01mcv2\u001b[39;00m \u001b[38;5;28;01mas\u001b[39;00m \u001b[38;5;21;01mcv\u001b[39;00m\n\u001b[0;32m      2\u001b[0m \u001b[38;5;28;01mimport\u001b[39;00m \u001b[38;5;21;01mimghdr\u001b[39;00m\n\u001b[1;32m----> 4\u001b[0m \u001b[43mimgdhr\u001b[49m\n",
      "\u001b[1;31mNameError\u001b[0m: name 'imgdhr' is not defined"
     ]
    }
   ],
   "source": [
    "# Download datasets\n"
   ]
  }
 ],
 "metadata": {
  "kernelspec": {
   "display_name": "tensorflow",
   "language": "python",
   "name": "tensorflow"
  },
  "language_info": {
   "codemirror_mode": {
    "name": "ipython",
    "version": 3
   },
   "file_extension": ".py",
   "mimetype": "text/x-python",
   "name": "python",
   "nbconvert_exporter": "python",
   "pygments_lexer": "ipython3",
   "version": "3.7.12"
  }
 },
 "nbformat": 4,
 "nbformat_minor": 4
}
