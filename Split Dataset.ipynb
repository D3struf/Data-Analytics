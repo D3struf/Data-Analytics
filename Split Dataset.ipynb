{
 "cells": [
  {
   "cell_type": "markdown",
   "id": "93c3f5a0-425f-4cf1-904f-219b0368bc2d",
   "metadata": {},
   "source": [
    "Split the Dataset from 1 Folder with their JSON File Annotations "
   ]
  },
  {
   "cell_type": "code",
   "execution_count": 55,
   "id": "627014f0-422d-418b-b75c-c5ff1723973f",
   "metadata": {
    "tags": []
   },
   "outputs": [],
   "source": [
    "import json\n",
    "import pandas as pd\n",
    "import tensorflow as tf\n",
    "import os\n",
    "from sklearn.model_selection import train_test_split\n",
    "import shutil"
   ]
  },
  {
   "cell_type": "code",
   "execution_count": 6,
   "id": "463b939d-bbba-47b0-bdcd-871d795705b2",
   "metadata": {
    "tags": []
   },
   "outputs": [],
   "source": [
    "# Load and parse JSON data\n",
    "annotation_path = './train/_annotations.coco.json'\n",
    "\n",
    "with open(annotation_path, 'r') as json_file:\n",
    "    data = json.load(json_file)"
   ]
  },
  {
   "cell_type": "markdown",
   "id": "417b4ede-a658-4e85-b5ed-e2186378d9aa",
   "metadata": {
    "tags": []
   },
   "source": [
    "Extract the Image Paths, Bounding Boxes, and Class Labels"
   ]
  },
  {
   "cell_type": "code",
   "execution_count": 7,
   "id": "8fc124bb-b848-49f3-b23d-6b7f2df982a5",
   "metadata": {
    "tags": []
   },
   "outputs": [],
   "source": [
    "annotation_ids = [entry['image_id'] for entry in data['annotations']]"
   ]
  },
  {
   "cell_type": "code",
   "execution_count": 70,
   "id": "37a22030-f9f6-4676-85bc-d34c45a60684",
   "metadata": {
    "tags": []
   },
   "outputs": [],
   "source": [
    "image_file_paths = []\n",
    "bounding_boxes = []\n",
    "class_labels = []\n",
    "\n",
    "for entry in data['images']:\n",
    "    if entry['id'] in annotation_ids:\n",
    "        image_file_paths.append(entry['file_name'])\n",
    "        \n",
    "for entry in data['annotations']:\n",
    "    bounding_boxes.append(entry['bbox'])\n",
    "    class_labels.append(entry['category_id'])"
   ]
  },
  {
   "cell_type": "code",
   "execution_count": 26,
   "id": "7fcc9d82-2fbf-4e7b-a236-683eb1ef2107",
   "metadata": {
    "tags": []
   },
   "outputs": [],
   "source": [
    "df_dataset = pd.DataFrame({'image_filename': image_file_paths, 'bounding_boxes': bounding_boxes, 'class_labels': class_labels})"
   ]
  },
  {
   "cell_type": "code",
   "execution_count": null,
   "id": "4b1e4ab6-7533-45b9-a563-a57ef5192310",
   "metadata": {
    "jupyter": {
     "source_hidden": true
    },
    "tags": []
   },
   "outputs": [],
   "source": [
    "# Create 2 Dataframe; First dataset, contains the image paths \n",
    "# Second, contains both \n",
    "X = df_dataset.drop(columns='class_labels')\n",
    "y = df_dataset['class_labels']"
   ]
  },
  {
   "cell_type": "markdown",
   "id": "6249cd9c-6feb-4f5a-88f4-51b171a1f7aa",
   "metadata": {},
   "source": [
    "Split the Dataframe in Three Folders (Train, Test, Valid)"
   ]
  },
  {
   "cell_type": "code",
   "execution_count": 27,
   "id": "c248ca27-00e2-43ba-a857-21a66c7aff69",
   "metadata": {
    "tags": []
   },
   "outputs": [],
   "source": [
    "train_dataset, temp = train_test_split(df_dataset, test_size=0.3, random_state=42)"
   ]
  },
  {
   "cell_type": "code",
   "execution_count": 28,
   "id": "6a24e68b-ecb1-4064-bad4-889dad6b464e",
   "metadata": {
    "tags": []
   },
   "outputs": [],
   "source": [
    "test_dataset, valid_dataset = train_test_split(temp, test_size=0.5, random_state=42)"
   ]
  },
  {
   "cell_type": "code",
   "execution_count": 32,
   "id": "fd6dcd86-d4ec-402a-b30d-31149bffc10d",
   "metadata": {
    "tags": []
   },
   "outputs": [],
   "source": [
    "# Set the dataframes to a dictionary\n",
    "train_dataset = dict(train_dataset)\n",
    "test_dataset = dict(test_dataset)\n",
    "valid_dataset = dict(valid_dataset)"
   ]
  },
  {
   "cell_type": "markdown",
   "id": "f5cd36cb-d182-400d-8e7b-dc2c87e1dd51",
   "metadata": {
    "tags": []
   },
   "source": [
    "Save the dataframes to their designated Folders"
   ]
  },
  {
   "cell_type": "code",
   "execution_count": 37,
   "id": "2507de87-c84a-4ee4-83cf-cb06eeca5da5",
   "metadata": {
    "tags": []
   },
   "outputs": [],
   "source": [
    "# Setup the folders\n",
    "Dataset = 'Dataset\\\\'\n",
    "train = Dataset + 'train\\\\'\n",
    "valid = Dataset + 'valid\\\\'\n",
    "test = Dataset + 'test\\\\'"
   ]
  },
  {
   "cell_type": "code",
   "execution_count": 58,
   "id": "f4ea14e5-98d0-46cb-9efc-9c1184effed3",
   "metadata": {
    "tags": []
   },
   "outputs": [],
   "source": [
    "# Setup the Directories\n",
    "current_dir = os.getcwd()\n",
    "\n",
    "dataset_path = os.path.join(current_dir, Dataset)\n",
    "train_path = os.path.join(current_dir, train)\n",
    "test_path = os.path.join(current_dir, test)\n",
    "valid_path = os.path.join(current_dir, valid)\n",
    "\n",
    "if not os.path.exists(train_path) and not os.path.exists(test_path) and not os.path.exists(valid_path):\n",
    "    os.mkdir(train_path)\n",
    "    os.mkdir(test_path)\n",
    "    os.mkdir(valid_path)"
   ]
  },
  {
   "cell_type": "code",
   "execution_count": 61,
   "id": "da1a12a3-58c0-4f8b-ba3e-62a04216b0a7",
   "metadata": {
    "tags": []
   },
   "outputs": [],
   "source": [
    "# Save the train images to the train folder\n",
    "image_directory = 'train\\\\'\n",
    "for filename in train_dataset['image_filename']:\n",
    "    if filename.endswith(\".jpg\"):\n",
    "        image_path = os.path.join(current_dir, image_directory, filename)\n",
    "        shutil.move(image_path, train_path)"
   ]
  },
  {
   "cell_type": "code",
   "execution_count": 59,
   "id": "7b05c242-7925-4e71-9765-e30e855e8cca",
   "metadata": {
    "tags": []
   },
   "outputs": [],
   "source": [
    "# Save the test images to the test folder\n",
    "image_directory = 'train\\\\'\n",
    "for filename in test_dataset['image_filename']:\n",
    "    if filename.endswith(\".jpg\"):\n",
    "        image_path = os.path.join(current_dir, image_directory, filename)\n",
    "        shutil.move(image_path, test_path)"
   ]
  },
  {
   "cell_type": "code",
   "execution_count": 63,
   "id": "1254d206-99b9-484f-be92-135bce46ce9e",
   "metadata": {
    "tags": []
   },
   "outputs": [],
   "source": [
    "# Save the valid images to the valid folder\n",
    "image_directory = 'train\\\\'\n",
    "for filename in valid_dataset['image_filename']:\n",
    "    if filename.endswith(\".jpg\"):\n",
    "        image_path = os.path.join(current_dir, image_directory, filename)\n",
    "        shutil.move(image_path, valid_path)"
   ]
  },
  {
   "cell_type": "code",
   "execution_count": 78,
   "id": "ab0a1874-69cc-4700-bfd5-ed53594a55b8",
   "metadata": {
    "collapsed": true,
    "jupyter": {
     "outputs_hidden": true
    },
    "tags": []
   },
   "outputs": [
    {
     "data": {
      "text/plain": [
       "{'image_filename': 765      1000_new_70e13adfbcbc40fbbdd57a89636f7201_jpg....\n",
       " 5927     50_c5d27dd2cd5642b69e128a5666a2a124_jpg.rf.049...\n",
       " 14029    500_c96f0fdf87314bd7b3d0603def1daa40_jpg.rf.ae...\n",
       " 6187     20_1d62f6303bda4c568de28bb99406fb85_jpg.rf.08b...\n",
       " 3872     50_f479582edef346909ac4bf31f71f7047_jpg.rf.22d...\n",
       "                                ...                        \n",
       " 5191     20_4268baf0abc547b9bc60db0145bc7a69_jpg.rf.382...\n",
       " 13418    50_c95f69fd402045779ae099156fc3d2f2_jpg.rf.a45...\n",
       " 5390     1000_new_f09cb00135054725a378126b59127449_jpg....\n",
       " 860      100_5ca13652b1274ce3908fbc9a10684ff6_jpg.rf.70...\n",
       " 7270     1000_new_a8be507fac6e4ccdb33a29dead28f46a_jpg....\n",
       " Name: image_filename, Length: 10581, dtype: object,\n",
       " 'bounding_boxes': 765          [338, 0, 297, 179]\n",
       " 5927         [0, 227, 298, 185]\n",
       " 14029         [341, 0, 297, 88]\n",
       " 6187          [0, 191, 63, 449]\n",
       " 3872         [0, 225, 124, 184]\n",
       "                   ...          \n",
       " 5191        [270, 191, 49, 449]\n",
       " 13418         [170, 0, 299, 89]\n",
       " 5390          [0, 456, 640, 95]\n",
       " 860        [0, 230, 297, 185.5]\n",
       " 7270     [321, 196, 314.5, 444]\n",
       " Name: bounding_boxes, Length: 10581, dtype: object,\n",
       " 'class_labels': 765      2\n",
       " 5927     5\n",
       " 14029    6\n",
       " 6187     3\n",
       " 3872     5\n",
       "         ..\n",
       " 5191     3\n",
       " 13418    5\n",
       " 5390     2\n",
       " 860      1\n",
       " 7270     2\n",
       " Name: class_labels, Length: 10581, dtype: int64}"
      ]
     },
     "execution_count": 78,
     "metadata": {},
     "output_type": "execute_result"
    }
   ],
   "source": [
    "train_dataset"
   ]
  },
  {
   "cell_type": "markdown",
   "id": "e2fdab42-4de6-46c2-bf03-12393d47aff5",
   "metadata": {},
   "source": [
    "Create a JSON File for train images with annotations and class label"
   ]
  },
  {
   "cell_type": "code",
   "execution_count": 85,
   "id": "45bb2ee0-d08c-42da-b93d-8f3c419c11ec",
   "metadata": {
    "tags": []
   },
   "outputs": [],
   "source": [
    "train_image_filename = dict()\n",
    "train_image_bbox = dict()\n",
    "train_image_class_label = dict()\n",
    "\n",
    "i = 0\n",
    "for entry in train_dataset['image_filename']:\n",
    "    train_image_filename[i] = entry\n",
    "    i += 1\n",
    "\n",
    "i = 0\n",
    "for entry in train_dataset['bounding_boxes']:\n",
    "    train_image_bbox[i] = entry\n",
    "    i += 1\n",
    "    \n",
    "i = 0\n",
    "for entry in train_dataset['class_labels']:\n",
    "    train_image_class_label[i] = entry\n",
    "    i += 1"
   ]
  },
  {
   "cell_type": "code",
   "execution_count": 92,
   "id": "c732c5e0-b539-4517-9814-6a4a56de696b",
   "metadata": {
    "tags": []
   },
   "outputs": [],
   "source": [
    "train_json = [{'file_name': train_image_filename}, {'bbox': train_image_bbox}, {'class_category': train_image_class_label}]\n",
    "jsonString = json.dumps(train_json)"
   ]
  },
  {
   "cell_type": "code",
   "execution_count": 97,
   "id": "02bda226-633b-427c-86ad-4e81c5f7b8d5",
   "metadata": {
    "tags": []
   },
   "outputs": [],
   "source": [
    "file = 'annotation.json'\n",
    "file_path = os.path.join(train_path, file)\n",
    "\n",
    "jsonFile = open(file_path, \"w\")\n",
    "jsonFile.write(jsonString)\n",
    "jsonFile.close()"
   ]
  },
  {
   "cell_type": "markdown",
   "id": "38f587f5-3a9f-40d1-93db-5c8f6fa0a829",
   "metadata": {
    "tags": []
   },
   "source": [
    "Create a JSON File for test images with annotations and class label"
   ]
  },
  {
   "cell_type": "code",
   "execution_count": 99,
   "id": "1be94983-ecfd-422b-bfe6-ff3396aa53b2",
   "metadata": {
    "tags": []
   },
   "outputs": [],
   "source": [
    "test_image_filename = dict()\n",
    "test_image_bbox = dict()\n",
    "test_image_class_label = dict()\n",
    "\n",
    "i = 0\n",
    "for entry in test_dataset['image_filename']:\n",
    "    test_image_filename[i] = entry\n",
    "    i += 1\n",
    "\n",
    "i = 0\n",
    "for entry in test_dataset['bounding_boxes']:\n",
    "    test_image_bbox[i] = entry\n",
    "    i += 1\n",
    "    \n",
    "i = 0\n",
    "for entry in test_dataset['class_labels']:\n",
    "    test_image_class_label[i] = entry\n",
    "    i += 1"
   ]
  },
  {
   "cell_type": "code",
   "execution_count": 100,
   "id": "ddba1d2e-05f6-458d-a69e-d3a3fa04de4b",
   "metadata": {
    "tags": []
   },
   "outputs": [],
   "source": [
    "test_json = [{'file_name': test_image_filename}, {'bbox': test_image_bbox}, {'class_category': test_image_class_label}]\n",
    "test_jsonString = json.dumps(test_json)"
   ]
  },
  {
   "cell_type": "code",
   "execution_count": 103,
   "id": "2b12673d-0ae2-45e2-afe8-b3b842e0c58f",
   "metadata": {
    "tags": []
   },
   "outputs": [],
   "source": [
    "test_file_path = os.path.join(test_path, file)\n",
    "\n",
    "test_jsonFile = open(test_file_path, \"w\")\n",
    "test_jsonFile.write(test_jsonString)\n",
    "test_jsonFile.close()"
   ]
  },
  {
   "cell_type": "markdown",
   "id": "bcae1522-40ae-4ba0-8b1a-e73c2e746baf",
   "metadata": {},
   "source": [
    "Create a JSON File for valid images with annotations and class label"
   ]
  },
  {
   "cell_type": "code",
   "execution_count": 105,
   "id": "29f341aa-a4c2-4046-a687-4669bed3db79",
   "metadata": {
    "tags": []
   },
   "outputs": [],
   "source": [
    "valid_image_filename = dict()\n",
    "valid_image_bbox = dict()\n",
    "valid_image_class_label = dict()\n",
    "\n",
    "i = 0\n",
    "for entry in valid_dataset['image_filename']:\n",
    "    valid_image_filename[i] = entry\n",
    "    i += 1\n",
    "\n",
    "i = 0\n",
    "for entry in valid_dataset['bounding_boxes']:\n",
    "    valid_image_bbox[i] = entry\n",
    "    i += 1\n",
    "    \n",
    "i = 0\n",
    "for entry in valid_dataset['class_labels']:\n",
    "    valid_image_class_label[i] = entry\n",
    "    i += 1"
   ]
  },
  {
   "cell_type": "code",
   "execution_count": 106,
   "id": "dd398b16-3c9b-41b3-aed4-85516cb28f79",
   "metadata": {
    "tags": []
   },
   "outputs": [],
   "source": [
    "valid_json = [{'file_name': valid_image_filename}, {'bbox': valid_image_bbox}, {'class_category': valid_image_class_label}]\n",
    "valid_jsonString = json.dumps(valid_json)"
   ]
  },
  {
   "cell_type": "code",
   "execution_count": 109,
   "id": "67bed4a6-95f1-4937-83d5-e68bee84fd56",
   "metadata": {
    "tags": []
   },
   "outputs": [],
   "source": [
    "valid_file_path = os.path.join(valid_path, file)\n",
    "\n",
    "valid_jsonFile = open(valid_file_path, \"w\")\n",
    "valid_jsonFile.write(valid_jsonString)\n",
    "valid_jsonFile.close()"
   ]
  },
  {
   "cell_type": "code",
   "execution_count": null,
   "id": "d71465e8-b208-40fc-837d-c6ee554f7534",
   "metadata": {},
   "outputs": [],
   "source": []
  }
 ],
 "metadata": {
  "kernelspec": {
   "display_name": "Python 3 (ipykernel)",
   "language": "python",
   "name": "python3"
  },
  "language_info": {
   "codemirror_mode": {
    "name": "ipython",
    "version": 3
   },
   "file_extension": ".py",
   "mimetype": "text/x-python",
   "name": "python",
   "nbconvert_exporter": "python",
   "pygments_lexer": "ipython3",
   "version": "3.10.13"
  }
 },
 "nbformat": 4,
 "nbformat_minor": 5
}
